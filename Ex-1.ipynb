{
 "cells": [
  {
   "cell_type": "code",
   "execution_count": 1,
   "id": "6e605c33-db9b-490d-8cdb-486cff428490",
   "metadata": {},
   "outputs": [],
   "source": [
    "x<- rnorm(100)"
   ]
  },
  {
   "cell_type": "code",
   "execution_count": 2,
   "id": "e61749fc-0382-4a19-aa3e-0b35023fa117",
   "metadata": {},
   "outputs": [
    {
     "data": {
      "text/plain": [
       "\n",
       "\tOne Sample t-test\n",
       "\n",
       "data:  x\n",
       "t = -54.066, df = 99, p-value < 2.2e-16\n",
       "alternative hypothesis: true mean is not equal to 5\n",
       "95 percent confidence interval:\n",
       " -0.07225602  0.28686373\n",
       "sample estimates:\n",
       "mean of x \n",
       "0.1073039 \n"
      ]
     },
     "metadata": {},
     "output_type": "display_data"
    }
   ],
   "source": [
    "t.test(x,mu=5)"
   ]
  },
  {
   "cell_type": "code",
   "execution_count": 3,
   "id": "3e5e5e6c-0483-493f-8a17-e1b1ef327c1c",
   "metadata": {},
   "outputs": [],
   "source": [
    "x1<-rnorm(100)"
   ]
  },
  {
   "cell_type": "code",
   "execution_count": 4,
   "id": "d95e5de5-6a2f-4d1f-94f8-e0a2f385913a",
   "metadata": {},
   "outputs": [],
   "source": [
    "y1<-rnorm(100)"
   ]
  },
  {
   "cell_type": "code",
   "execution_count": 5,
   "id": "917c548a-8def-46b2-9d80-528eee7d7a77",
   "metadata": {},
   "outputs": [
    {
     "data": {
      "text/plain": [
       "\n",
       "\tWelch Two Sample t-test\n",
       "\n",
       "data:  x1 and y1\n",
       "t = -0.66571, df = 194.45, p-value = 0.5064\n",
       "alternative hypothesis: true difference in means is not equal to 0\n",
       "95 percent confidence interval:\n",
       " -0.3458368  0.1712859\n",
       "sample estimates:\n",
       "  mean of x   mean of y \n",
       "-0.18644562 -0.09917018 \n"
      ]
     },
     "metadata": {},
     "output_type": "display_data"
    }
   ],
   "source": [
    "t.test(x1,y1)"
   ]
  },
  {
   "cell_type": "code",
   "execution_count": 6,
   "id": "be2f8915-aade-4256-9a90-51f963823c9d",
   "metadata": {},
   "outputs": [],
   "source": [
    "x2<-rnorm(100)"
   ]
  },
  {
   "cell_type": "code",
   "execution_count": 7,
   "id": "47c27236-35a1-4df0-8850-983b5a8a49c3",
   "metadata": {},
   "outputs": [
    {
     "data": {
      "text/plain": [
       "\n",
       "\tOne Sample t-test\n",
       "\n",
       "data:  x2\n",
       "t = -18.916, df = 99, p-value = 1\n",
       "alternative hypothesis: true mean is greater than 2\n",
       "95 percent confidence interval:\n",
       " 0.04426282        Inf\n",
       "sample estimates:\n",
       "mean of x \n",
       "0.2020826 \n"
      ]
     },
     "metadata": {},
     "output_type": "display_data"
    }
   ],
   "source": [
    "t.test(x2,mu=2,alternative='greater')"
   ]
  },
  {
   "cell_type": "code",
   "execution_count": 8,
   "id": "1034ca75-bd60-47dd-8e8f-2e8cb69315b5",
   "metadata": {},
   "outputs": [],
   "source": [
    "x3<-rnorm(100)"
   ]
  },
  {
   "cell_type": "code",
   "execution_count": 9,
   "id": "8485f9a6-a633-4152-915e-b27df0f5b087",
   "metadata": {},
   "outputs": [
    {
     "data": {
      "text/plain": [
       "\n",
       "\tWilcoxon signed rank test with continuity correction\n",
       "\n",
       "data:  x3\n",
       "V = 2632, p-value = 0.7142\n",
       "alternative hypothesis: true location is not equal to 0\n"
      ]
     },
     "metadata": {},
     "output_type": "display_data"
    }
   ],
   "source": [
    "wilcox.test(x3,exact=FALSE)"
   ]
  },
  {
   "cell_type": "code",
   "execution_count": 17,
   "id": "b43de8e4-8891-426f-bd53-22cff18a8638",
   "metadata": {},
   "outputs": [
    {
     "data": {
      "text/plain": [
       "\n",
       "\tPearson's product-moment correlation\n",
       "\n",
       "data:  mtcars$mpg and mtcars$hp\n",
       "t = -6.7424, df = 30, p-value = 1.788e-07\n",
       "alternative hypothesis: true correlation is not equal to 0\n",
       "95 percent confidence interval:\n",
       " -0.8852686 -0.5860994\n",
       "sample estimates:\n",
       "       cor \n",
       "-0.7761684 \n"
      ]
     },
     "metadata": {},
     "output_type": "display_data"
    }
   ],
   "source": [
    "cor.test(mtcars$mpg,mtcars$hp)"
   ]
  }
 ],
 "metadata": {
  "kernelspec": {
   "display_name": "R",
   "language": "R",
   "name": "ir"
  },
  "language_info": {
   "codemirror_mode": "r",
   "file_extension": ".r",
   "mimetype": "text/x-r-source",
   "name": "R",
   "pygments_lexer": "r",
   "version": "4.3.3"
  }
 },
 "nbformat": 4,
 "nbformat_minor": 5
}

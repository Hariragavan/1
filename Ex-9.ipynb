{
 "cells": [
  {
   "cell_type": "code",
   "execution_count": 1,
   "id": "d9ffa3e0-c88f-495f-9237-996184220798",
   "metadata": {},
   "outputs": [],
   "source": [
    "from pyspark import SparkContext\n",
    "from pyspark.sql import SparkSession\n",
    "from pyspark.sql.types import *\n",
    "from pyspark.sql.functions import *\n",
    "from pyspark.sql.types import Row\n",
    "from datetime import datetime"
   ]
  },
  {
   "cell_type": "code",
   "execution_count": 2,
   "id": "e52664e9-7f0c-4523-89f1-942b56d2a3c4",
   "metadata": {
    "scrolled": true
   },
   "outputs": [
    {
     "name": "stderr",
     "output_type": "stream",
     "text": [
      "Setting default log level to \"WARN\".\n",
      "To adjust logging level use sc.setLogLevel(newLevel). For SparkR, use setLogLevel(newLevel).\n",
      "24/11/07 09:44:39 WARN NativeCodeLoader: Unable to load native-hadoop library for your platform... using builtin-java classes where applicable\n"
     ]
    }
   ],
   "source": [
    "sc = SparkContext()"
   ]
  },
  {
   "cell_type": "code",
   "execution_count": 3,
   "id": "57d0bd93-6677-4906-a5f9-49059d46ed07",
   "metadata": {},
   "outputs": [],
   "source": [
    "spark=SparkSession.builder.appName(\"Python Spark SQL basic example\").config(\"spark.some.config.option\",\"some-value\").getOrCreate()"
   ]
  },
  {
   "cell_type": "code",
   "execution_count": 4,
   "id": "5855ed0e-1b5e-4834-8efa-953a6d8062dd",
   "metadata": {},
   "outputs": [],
   "source": [
    "srecord=sc.parallelize([\n",
    "    Row(roll_no=1,name=\"john\",passed=True,marks={'Math':89,'Physics':87,'Chemistry':96},sports=['chess','football'],DoB=datetime(2012,5,1,12,1,5)),\n",
    "    Row(roll_no=2,name=\"Vignesh\",passed=False,marks={'Math':95,'Physics':66,'Chemistry':77},sports=['carrom','tennis'],DoB=datetime(2012,5,12,14,2,5)),\n",
    "    Row(roll_no=3,name=\"Sidharth\",passed=True,marks={'Math':95,'Physics':100,'Chemistry':95},sports=['football','kabadi'],DoB=datetime(2012,5,14,12,2,5))\n",
    "])"
   ]
  },
  {
   "cell_type": "code",
   "execution_count": 5,
   "id": "1b14f8b1-c105-4166-bd31-e41e87745945",
   "metadata": {},
   "outputs": [
    {
     "name": "stderr",
     "output_type": "stream",
     "text": [
      "                                                                                \r"
     ]
    }
   ],
   "source": [
    "srdf=srecord.toDF()"
   ]
  },
  {
   "cell_type": "code",
   "execution_count": 6,
   "id": "32bf212d-fd50-4996-b1e9-06385d6309d4",
   "metadata": {},
   "outputs": [
    {
     "name": "stdout",
     "output_type": "stream",
     "text": [
      "+-------+--------+------+--------------------+------------------+-------------------+\n",
      "|roll_no|    name|passed|               marks|            sports|                DoB|\n",
      "+-------+--------+------+--------------------+------------------+-------------------+\n",
      "|      1|    john|  true|{Math -> 89, Chem...| [chess, football]|2012-05-01 12:01:05|\n",
      "|      2| Vignesh| false|{Math -> 95, Chem...|  [carrom, tennis]|2012-05-12 14:02:05|\n",
      "|      3|Sidharth|  true|{Math -> 95, Chem...|[football, kabadi]|2012-05-14 12:02:05|\n",
      "+-------+--------+------+--------------------+------------------+-------------------+\n",
      "\n"
     ]
    }
   ],
   "source": [
    "srdf.show()"
   ]
  },
  {
   "cell_type": "code",
   "execution_count": 7,
   "id": "f9dbd6dc-7db7-4db3-a7bd-8e0601423c78",
   "metadata": {},
   "outputs": [],
   "source": [
    "srdf.createOrReplaceTempView('records')"
   ]
  },
  {
   "cell_type": "code",
   "execution_count": 8,
   "id": "685be5b0-b209-4904-833c-4b5dfdac47f6",
   "metadata": {},
   "outputs": [
    {
     "name": "stdout",
     "output_type": "stream",
     "text": [
      "+-------+--------+------+--------------------+------------------+-------------------+\n",
      "|roll_no|    name|passed|               marks|            sports|                DoB|\n",
      "+-------+--------+------+--------------------+------------------+-------------------+\n",
      "|      1|    john|  true|{Math -> 89, Chem...| [chess, football]|2012-05-01 12:01:05|\n",
      "|      2| Vignesh| false|{Math -> 95, Chem...|  [carrom, tennis]|2012-05-12 14:02:05|\n",
      "|      3|Sidharth|  true|{Math -> 95, Chem...|[football, kabadi]|2012-05-14 12:02:05|\n",
      "+-------+--------+------+--------------------+------------------+-------------------+\n",
      "\n"
     ]
    }
   ],
   "source": [
    "spark.sql(\"SELECT * FROM records\").show()"
   ]
  },
  {
   "cell_type": "code",
   "execution_count": 9,
   "id": "588583dd-18f8-45d5-80a3-792a14526c6c",
   "metadata": {},
   "outputs": [
    {
     "data": {
      "text/plain": [
       "pyspark.sql.dataframe.DataFrame"
      ]
     },
     "execution_count": 9,
     "metadata": {},
     "output_type": "execute_result"
    }
   ],
   "source": [
    "re=spark.sql(\"SELECT * FROM records\")\n",
    "type(re)"
   ]
  },
  {
   "cell_type": "code",
   "execution_count": 10,
   "id": "f39d4bda-c755-4568-a857-19fa0fae22fd",
   "metadata": {},
   "outputs": [
    {
     "name": "stdout",
     "output_type": "stream",
     "text": [
      "+-------+--------------+---------+\n",
      "|roll_no|marks[Physics]|sports[1]|\n",
      "+-------+--------------+---------+\n",
      "|      1|            87| football|\n",
      "|      2|            66|   tennis|\n",
      "|      3|           100|   kabadi|\n",
      "+-------+--------------+---------+\n",
      "\n"
     ]
    },
    {
     "name": "stderr",
     "output_type": "stream",
     "text": [
      "24/11/07 09:44:55 WARN GarbageCollectionMetrics: To enable non-built-in garbage collector(s) List(G1 Concurrent GC), users should configure it(them) to spark.eventLog.gcMetrics.youngGenerationGarbageCollectors or spark.eventLog.gcMetrics.oldGenerationGarbageCollectors\n"
     ]
    }
   ],
   "source": [
    "spark.sql('SELECT roll_no,marks[\"Physics\"],sports[1] FROM records').show()"
   ]
  },
  {
   "cell_type": "code",
   "execution_count": 11,
   "id": "07788e94-9443-4ae8-b5e6-4706e4832ea2",
   "metadata": {},
   "outputs": [
    {
     "name": "stdout",
     "output_type": "stream",
     "text": [
      "+-------+--------+------+--------------------+------------------+-------------------+\n",
      "|roll_no|    name|passed|               marks|            sports|                DoB|\n",
      "+-------+--------+------+--------------------+------------------+-------------------+\n",
      "|      1|    john|  true|{Math -> 89, Chem...| [chess, football]|2012-05-01 12:01:05|\n",
      "|      3|Sidharth|  true|{Math -> 95, Chem...|[football, kabadi]|2012-05-14 12:02:05|\n",
      "+-------+--------+------+--------------------+------------------+-------------------+\n",
      "\n"
     ]
    }
   ],
   "source": [
    "spark.sql('SELECT * FROM records where passed=True').show()"
   ]
  },
  {
   "cell_type": "code",
   "execution_count": 12,
   "id": "0832365d-5147-40d0-9569-f6efde17d149",
   "metadata": {},
   "outputs": [
    {
     "name": "stdout",
     "output_type": "stream",
     "text": [
      "+-------+----+------+-----+------+---+\n",
      "|roll_no|name|passed|marks|sports|DoB|\n",
      "+-------+----+------+-----+------+---+\n",
      "+-------+----+------+-----+------+---+\n",
      "\n"
     ]
    }
   ],
   "source": [
    "spark.sql('SELECT * FROM records where marks[\"Chemistry\"]<40').show()"
   ]
  },
  {
   "cell_type": "code",
   "execution_count": 13,
   "id": "0c022958-9378-4228-b123-353a8400d633",
   "metadata": {},
   "outputs": [],
   "source": [
    "srdf.createGlobalTempView('globalrecord')"
   ]
  },
  {
   "cell_type": "code",
   "execution_count": 14,
   "id": "247cb82f-9d2e-469f-9adf-04f2e580f310",
   "metadata": {},
   "outputs": [
    {
     "name": "stdout",
     "output_type": "stream",
     "text": [
      "+-------+--------+------+--------------------+------------------+-------------------+\n",
      "|roll_no|    name|passed|               marks|            sports|                DoB|\n",
      "+-------+--------+------+--------------------+------------------+-------------------+\n",
      "|      1|    john|  true|{Math -> 89, Chem...| [chess, football]|2012-05-01 12:01:05|\n",
      "|      2| Vignesh| false|{Math -> 95, Chem...|  [carrom, tennis]|2012-05-12 14:02:05|\n",
      "|      3|Sidharth|  true|{Math -> 95, Chem...|[football, kabadi]|2012-05-14 12:02:05|\n",
      "+-------+--------+------+--------------------+------------------+-------------------+\n",
      "\n"
     ]
    }
   ],
   "source": [
    "spark.sql(\"SELECT * FROM global_temp.globalrecord\").show()"
   ]
  },
  {
   "cell_type": "code",
   "execution_count": 15,
   "id": "7158f075-5966-4530-8af2-47d4ff06f90e",
   "metadata": {},
   "outputs": [
    {
     "data": {
      "text/plain": [
       "['roll_no', 'name', 'passed', 'marks', 'sports', 'DoB']"
      ]
     },
     "execution_count": 15,
     "metadata": {},
     "output_type": "execute_result"
    }
   ],
   "source": [
    "srdf.columns"
   ]
  },
  {
   "cell_type": "code",
   "execution_count": 16,
   "id": "bb75b8f3-1ede-4b0c-8c90-3bc3dc87dc1a",
   "metadata": {},
   "outputs": [],
   "source": [
    "srdf=srdf.drop('passed')"
   ]
  },
  {
   "cell_type": "code",
   "execution_count": 17,
   "id": "a41d5965-1a18-4489-8df3-a066bf348743",
   "metadata": {},
   "outputs": [
    {
     "name": "stdout",
     "output_type": "stream",
     "text": [
      "+---------+\n",
      "|avg_marks|\n",
      "+---------+\n",
      "|     91.0|\n",
      "|     79.0|\n",
      "|     97.0|\n",
      "+---------+\n",
      "\n"
     ]
    }
   ],
   "source": [
    "spark.sql(\"SELECT round((marks.Physics+marks.Chemistry+marks.Math)/3)avg_marks FROM records\").show()"
   ]
  },
  {
   "cell_type": "code",
   "execution_count": 18,
   "id": "45596ee4-cf2c-4ad9-a511-b9e62edaf6d9",
   "metadata": {},
   "outputs": [],
   "source": [
    "srdf=spark.sql(\"SELECT *,round((marks.Physics+marks.Chemistry+marks.Math)/3)avg_marks FROM records\")"
   ]
  },
  {
   "cell_type": "code",
   "execution_count": 19,
   "id": "35b1fdfd-833b-4c50-b3da-9930358790da",
   "metadata": {},
   "outputs": [
    {
     "name": "stdout",
     "output_type": "stream",
     "text": [
      "+-------+--------+------+--------------------+------------------+-------------------+---------+\n",
      "|roll_no|    name|passed|               marks|            sports|                DoB|avg_marks|\n",
      "+-------+--------+------+--------------------+------------------+-------------------+---------+\n",
      "|      1|    john|  true|{Math -> 89, Chem...| [chess, football]|2012-05-01 12:01:05|     91.0|\n",
      "|      2| Vignesh| false|{Math -> 95, Chem...|  [carrom, tennis]|2012-05-12 14:02:05|     79.0|\n",
      "|      3|Sidharth|  true|{Math -> 95, Chem...|[football, kabadi]|2012-05-14 12:02:05|     97.0|\n",
      "+-------+--------+------+--------------------+------------------+-------------------+---------+\n",
      "\n"
     ]
    }
   ],
   "source": [
    "srdf.show()"
   ]
  }
 ],
 "metadata": {
  "kernelspec": {
   "display_name": "Python 3 (ipykernel)",
   "language": "python",
   "name": "python3"
  },
  "language_info": {
   "codemirror_mode": {
    "name": "ipython",
    "version": 3
   },
   "file_extension": ".py",
   "mimetype": "text/x-python",
   "name": "python",
   "nbconvert_exporter": "python",
   "pygments_lexer": "ipython3",
   "version": "3.12.7"
  }
 },
 "nbformat": 4,
 "nbformat_minor": 5
}

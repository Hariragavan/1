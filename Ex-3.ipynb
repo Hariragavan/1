{
 "cells": [
  {
   "cell_type": "code",
   "execution_count": 1,
   "id": "6fcaeaa5-8794-4e8e-a407-fe0fbbd3e7be",
   "metadata": {},
   "outputs": [],
   "source": [
    "data(mtcars)"
   ]
  },
  {
   "cell_type": "code",
   "execution_count": 2,
   "id": "56d87287-3456-41c8-a7a6-cfa883fd32d1",
   "metadata": {},
   "outputs": [],
   "source": [
    "linear_model<-lm(mpg~wt,data=mtcars)"
   ]
  },
  {
   "cell_type": "code",
   "execution_count": 3,
   "id": "94968d30-5ca2-4ad4-beef-76d4adb2a175",
   "metadata": {},
   "outputs": [
    {
     "data": {
      "text/plain": [
       "\n",
       "Call:\n",
       "lm(formula = mpg ~ wt, data = mtcars)\n",
       "\n",
       "Residuals:\n",
       "    Min      1Q  Median      3Q     Max \n",
       "-4.5432 -2.3647 -0.1252  1.4096  6.8727 \n",
       "\n",
       "Coefficients:\n",
       "            Estimate Std. Error t value Pr(>|t|)    \n",
       "(Intercept)  37.2851     1.8776  19.858  < 2e-16 ***\n",
       "wt           -5.3445     0.5591  -9.559 1.29e-10 ***\n",
       "---\n",
       "Signif. codes:  0 ‘***’ 0.001 ‘**’ 0.01 ‘*’ 0.05 ‘.’ 0.1 ‘ ’ 1\n",
       "\n",
       "Residual standard error: 3.046 on 30 degrees of freedom\n",
       "Multiple R-squared:  0.7528,\tAdjusted R-squared:  0.7446 \n",
       "F-statistic: 91.38 on 1 and 30 DF,  p-value: 1.294e-10\n"
      ]
     },
     "metadata": {},
     "output_type": "display_data"
    }
   ],
   "source": [
    "summary(linear_model)"
   ]
  },
  {
   "cell_type": "code",
   "execution_count": 4,
   "id": "dcacb7e8-4491-49b5-a9c6-5bfc3a4502a8",
   "metadata": {},
   "outputs": [],
   "source": [
    "predicted_mpg<-predict(linear_model,newdata=data.frame(wt=c(2.5,3.0)))"
   ]
  },
  {
   "cell_type": "code",
   "execution_count": 5,
   "id": "abf7db90-ef0f-4b03-9332-d2878849dfb5",
   "metadata": {},
   "outputs": [
    {
     "name": "stdout",
     "output_type": "stream",
     "text": [
      "predicted MPG for wt=2.5: 23.92395 \n"
     ]
    }
   ],
   "source": [
    "cat(\"predicted MPG for wt=2.5:\",predicted_mpg[1],\"\\n\")"
   ]
  },
  {
   "cell_type": "code",
   "execution_count": 6,
   "id": "52078a79-f335-4b13-b43b-41036e961480",
   "metadata": {},
   "outputs": [
    {
     "name": "stdout",
     "output_type": "stream",
     "text": [
      "predicted MPG for wt=30: 21.25171 \n",
      "\n"
     ]
    }
   ],
   "source": [
    "cat(\"predicted MPG for wt=30:\",predicted_mpg[2],\"\\n\\n\")"
   ]
  },
  {
   "cell_type": "code",
   "execution_count": 7,
   "id": "b642f858-c3ee-4e54-a8ed-5e72e5dc4be3",
   "metadata": {},
   "outputs": [],
   "source": [
    "data(iris)"
   ]
  },
  {
   "cell_type": "code",
   "execution_count": 8,
   "id": "cae8ab47-052e-4d54-822d-e7282123d35e",
   "metadata": {},
   "outputs": [],
   "source": [
    "iris$binary_species<-ifelse(iris$Species==\"setosa\",1,0)"
   ]
  },
  {
   "cell_type": "code",
   "execution_count": 9,
   "id": "4dab22a4-8bd3-463e-970a-0290cd37255d",
   "metadata": {},
   "outputs": [
    {
     "name": "stderr",
     "output_type": "stream",
     "text": [
      "Warning message:\n",
      "“glm.fit: algorithm did not converge”\n",
      "Warning message:\n",
      "“glm.fit: fitted probabilities numerically 0 or 1 occurred”\n"
     ]
    }
   ],
   "source": [
    "logistic_model<-glm(binary_species~Sepal.Width+Petal.Length+Petal.Width,data=iris, family=binomial)"
   ]
  },
  {
   "cell_type": "code",
   "execution_count": 10,
   "id": "860e4254-fc56-4936-8211-b5b5941df594",
   "metadata": {},
   "outputs": [
    {
     "data": {
      "text/plain": [
       "\n",
       "Call:\n",
       "glm(formula = binary_species ~ Sepal.Width + Petal.Length + Petal.Width, \n",
       "    family = binomial, data = iris)\n",
       "\n",
       "Coefficients:\n",
       "              Estimate Std. Error z value Pr(>|z|)\n",
       "(Intercept)      15.23  150477.05       0        1\n",
       "Sepal.Width      13.16   57949.55       0        1\n",
       "Petal.Length    -11.02   55795.89       0        1\n",
       "Petal.Width     -33.06  143112.66       0        1\n",
       "\n",
       "(Dispersion parameter for binomial family taken to be 1)\n",
       "\n",
       "    Null deviance: 1.9095e+02  on 149  degrees of freedom\n",
       "Residual deviance: 3.4141e-09  on 146  degrees of freedom\n",
       "AIC: 8\n",
       "\n",
       "Number of Fisher Scoring iterations: 25\n"
      ]
     },
     "metadata": {},
     "output_type": "display_data"
    }
   ],
   "source": [
    "summary(logistic_model)"
   ]
  },
  {
   "cell_type": "code",
   "execution_count": 11,
   "id": "eb935f4e-0493-4b9f-bc23-ad03da9d84a9",
   "metadata": {},
   "outputs": [],
   "source": [
    "new_data<-data.frame(Sepal.Length=c(5.1,6.0),Sepal.Width=c(3.5,3.0),Petal.Length=c(1.4,4.8),Petal.Width=c(0.2,1.8))\n",
    "predicted_probabilities<-predict(logistic_model,new_data=new_data,type=\"response\")"
   ]
  },
  {
   "cell_type": "code",
   "execution_count": 12,
   "id": "6481b8e7-09a0-4c1f-a3ce-6d7ef3790613",
   "metadata": {},
   "outputs": [
    {
     "name": "stdout",
     "output_type": "stream",
     "text": [
      "Predicted probability for setosa(1) class:\n"
     ]
    }
   ],
   "source": [
    "cat(\"Predicted probability for setosa(1) class:\\n\")"
   ]
  },
  {
   "cell_type": "code",
   "execution_count": 13,
   "id": "f933010c-86a1-44cb-8553-94d6b75d4179",
   "metadata": {},
   "outputs": [
    {
     "name": "stdout",
     "output_type": "stream",
     "text": [
      "1 1 1 1 1 1 1 1 1 1 1 1 1 1 1 1 1 1 1 1 1 1 1 1 1 1 1 1 1 1 1 1 1 1 1 1 1 1 1 1 1 1 1 1 1 1 1 1 1 1 2.220446e-16 2.220446e-16 2.220446e-16 2.220446e-16 2.220446e-16 2.220446e-16 2.220446e-16 1.539114e-10 2.220446e-16 2.220446e-16 2.220446e-16 2.220446e-16 2.220446e-16 2.220446e-16 2.010062e-13 2.220446e-16 2.220446e-16 1.187755e-12 2.220446e-16 2.220446e-16 2.220446e-16 2.220446e-16 2.220446e-16 2.220446e-16 2.220446e-16 2.220446e-16 2.220446e-16 2.220446e-16 2.220446e-16 2.363741e-10 2.220446e-16 1.877762e-12 2.220446e-16 2.220446e-16 2.220446e-16 2.220446e-16 2.220446e-16 2.220446e-16 2.220446e-16 2.220446e-16 2.220446e-16 2.220446e-16 2.220446e-16 4.127608e-11 2.220446e-16 2.220446e-16 2.220446e-16 2.220446e-16 5.734545e-10 2.220446e-16 2.220446e-16 2.220446e-16 2.220446e-16 2.220446e-16 2.220446e-16 2.220446e-16 2.220446e-16 2.220446e-16 2.220446e-16 2.220446e-16 2.220446e-16 2.220446e-16 2.220446e-16 2.220446e-16 2.220446e-16 2.220446e-16 2.220446e-16 2.220446e-16 2.220446e-16 2.220446e-16 2.220446e-16 2.220446e-16 2.220446e-16 2.220446e-16 2.220446e-16 2.220446e-16 2.220446e-16 2.220446e-16 2.220446e-16 2.220446e-16 2.220446e-16 2.220446e-16 2.220446e-16 2.220446e-16 2.220446e-16 2.220446e-16 2.220446e-16 2.220446e-16 2.220446e-16 2.220446e-16 2.220446e-16 2.220446e-16 2.220446e-16 2.220446e-16 2.220446e-16 2.220446e-16 2.220446e-16 2.220446e-16 2.220446e-16 2.220446e-16"
     ]
    }
   ],
   "source": [
    "cat(predicted_probabilities)"
   ]
  }
 ],
 "metadata": {
  "kernelspec": {
   "display_name": "R",
   "language": "R",
   "name": "ir"
  },
  "language_info": {
   "codemirror_mode": "r",
   "file_extension": ".r",
   "mimetype": "text/x-r-source",
   "name": "R",
   "pygments_lexer": "r",
   "version": "4.3.3"
  }
 },
 "nbformat": 4,
 "nbformat_minor": 5
}
